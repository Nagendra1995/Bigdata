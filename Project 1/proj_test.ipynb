{
 "cells": [
  {
   "cell_type": "markdown",
   "metadata": {},
   "source": [
    "### Notice: this test case is only for testing correctness rather than performance."
   ]
  },
  {
   "cell_type": "code",
   "execution_count": 2,
   "metadata": {
    "scrolled": true
   },
   "outputs": [
    {
     "name": "stdout",
     "output_type": "stream",
     "text": [
      "start 1 0 -1 -1\n",
      "end 2 0 1 2\n",
      "start 2 0 1 2\n",
      "end 4 0 2 4\n",
      "start 4 0 2 4\n",
      "end 8 0 4 8\n",
      "start 8 0 4 8\n",
      "end 16 0 8 16\n",
      "start 16 2 8 16\n",
      "end 32 2 16 32\n",
      "start 32 219 16 32\n",
      "end 24 219 16 32\n",
      "start 24 40 16 32\n",
      "end 20 40 16 24\n",
      "start 20 11 16 24\n",
      "end 18 11 16 20\n",
      "start 18 2 16 20\n",
      "end 19 2 18 20\n",
      "start 19 3 18 20\n",
      "end 19 3 19 20\n",
      "start 19 3 19 20\n",
      "end 20 3 19 20\n",
      "start 20 11 19 20\n",
      "running time: 77.7972321510315\n",
      "Number of candidate:  11\n",
      "set of candidate:  {161, 34, 68, 139, 492, 461, 303, 401, 307, 248, 447}\n"
     ]
    }
   ],
   "source": [
    "from pyspark import SparkContext, SparkConf\n",
    "from time import time\n",
    "import pickle\n",
    "import test1\n",
    "def createSC():\n",
    "    conf = SparkConf()\n",
    "    conf.setMaster(\"local[*]\")\n",
    "    conf.setAppName(\"C2LSH\")\n",
    "    sc = SparkContext(conf = conf)\n",
    "    return sc\n",
    "\n",
    "with open(\"hashed_data\", \"rb\") as file:\n",
    "    data = pickle.load(file)\n",
    "\n",
    "with open(\"hashed_query\", \"rb\") as file:\n",
    "    query_hashes = pickle.load(file)\n",
    "\n",
    "alpha_m = 20\n",
    "beta_n = 10\n",
    "\n",
    "length = len(data) - 1\n",
    "sc = createSC()\n",
    "start_time = time()\n",
    "data_hashes = sc.parallelize([(length - index, x) for index, x in enumerate(data)])\n",
    "res = test1.c2lsh(data_hashes, query_hashes, alpha_m, beta_n).collect()\n",
    "end_time = time()\n",
    "sc.stop()\n",
    "\n",
    "print('running time:', end_time - start_time)\n",
    "print('Number of candidate: ', len(res))\n",
    "print('set of candidate: ', set(res))"
   ]
  },
  {
   "cell_type": "code",
   "execution_count": null,
   "metadata": {},
   "outputs": [],
   "source": []
  },
  {
   "cell_type": "code",
   "execution_count": null,
   "metadata": {},
   "outputs": [],
   "source": []
  }
 ],
 "metadata": {
  "kernelspec": {
   "display_name": "comp9313",
   "language": "python",
   "name": "comp9313"
  },
  "language_info": {
   "codemirror_mode": {
    "name": "ipython",
    "version": 3
   },
   "file_extension": ".py",
   "mimetype": "text/x-python",
   "name": "python",
   "nbconvert_exporter": "python",
   "pygments_lexer": "ipython3",
   "version": "3.6.5"
  }
 },
 "nbformat": 4,
 "nbformat_minor": 4
}
